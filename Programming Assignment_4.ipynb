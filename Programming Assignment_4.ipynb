{
 "cells": [
  {
   "cell_type": "markdown",
   "id": "a5ddb576",
   "metadata": {},
   "source": [
    "Write a Python Program to Find the Factorial of a Number?\n"
   ]
  },
  {
   "cell_type": "code",
   "execution_count": 10,
   "id": "79f027ab",
   "metadata": {},
   "outputs": [
    {
     "name": "stdout",
     "output_type": "stream",
     "text": [
      "enter the number5\n",
      "your factorial is= 120\n"
     ]
    }
   ],
   "source": [
    "n=int(input(\"enter the number\"))\n",
    "fact=1\n",
    "for i in range(n):\n",
    "    fact=fact*(n-i)\n",
    "print(\"your factorial is=\",fact)"
   ]
  },
  {
   "cell_type": "markdown",
   "id": "d3d7ba39",
   "metadata": {},
   "source": [
    "Write a Python Program to Display the multiplication Table?"
   ]
  },
  {
   "cell_type": "code",
   "execution_count": 15,
   "id": "71754222",
   "metadata": {},
   "outputs": [
    {
     "name": "stdout",
     "output_type": "stream",
     "text": [
      "enter the number7\n",
      "7 X 1 = 7\n",
      "7 X 2 = 14\n",
      "7 X 3 = 21\n",
      "7 X 4 = 28\n",
      "7 X 5 = 35\n",
      "7 X 6 = 42\n",
      "7 X 7 = 49\n",
      "7 X 8 = 56\n",
      "7 X 9 = 63\n",
      "7 X 10 = 70\n"
     ]
    }
   ],
   "source": [
    "n=int(input(\"enter the number\"))\n",
    "for i in range(1,11):\n",
    "    print(n,\"X\",i,\"=\",n*i)"
   ]
  },
  {
   "cell_type": "markdown",
   "id": "16e5a342",
   "metadata": {},
   "source": [
    "Write a Python Program to Print the Fibonacci sequence?"
   ]
  },
  {
   "cell_type": "code",
   "execution_count": 26,
   "id": "2dfd2b4c",
   "metadata": {},
   "outputs": [
    {
     "name": "stdout",
     "output_type": "stream",
     "text": [
      "34\n"
     ]
    }
   ],
   "source": [
    "## using dynamic programming\n",
    "def fibonacci(n):\n",
    "    f=[0,1]\n",
    "    for i in range(2,n+1):\n",
    "        f.append(f[i-1]+f[i-2])\n",
    "    return f[n]\n",
    "print(fibonacci(9))"
   ]
  },
  {
   "cell_type": "markdown",
   "id": "b8cde50b",
   "metadata": {},
   "source": [
    "Write a Python Program to Check Armstrong Number?"
   ]
  },
  {
   "cell_type": "code",
   "execution_count": 44,
   "id": "f811b76e",
   "metadata": {},
   "outputs": [
    {
     "name": "stdout",
     "output_type": "stream",
     "text": [
      "enter the number153\n",
      "153\n",
      "armstrong number\n"
     ]
    }
   ],
   "source": [
    "n=int(input(\"enter the number\"))\n",
    "\n",
    "\n",
    "def CheckArmstrongNumber(n):\n",
    "    cn=0\n",
    "    int(cn)\n",
    "    int(n)\n",
    "    strre=n\n",
    "    int(strre)\n",
    "    while(n!=0):\n",
    "        temp=n%10\n",
    "        cn=cn+(temp*temp*temp)\n",
    "        n=int(n/10)\n",
    "    if(strre==cn):\n",
    "        print(cn)\n",
    "        return \"armstrong number\"\n",
    "    else:\n",
    "        print(cn)\n",
    "        return \"Not a armstrong number\"\n",
    "print(CheckArmstrongNumber(n))"
   ]
  },
  {
   "cell_type": "markdown",
   "id": "a5759a0c",
   "metadata": {},
   "source": [
    "Write a Python Program to Find Armstrong Number in an Interval?"
   ]
  },
  {
   "cell_type": "code",
   "execution_count": 46,
   "id": "05028a90",
   "metadata": {},
   "outputs": [
    {
     "name": "stdout",
     "output_type": "stream",
     "text": [
      "enter the lower limit100\n",
      "enter the upper limit21312312\n",
      "153\n",
      "370\n",
      "371\n",
      "407\n",
      "1634\n",
      "8208\n",
      "9474\n",
      "54748\n",
      "92727\n",
      "93084\n",
      "548834\n",
      "1741725\n",
      "4210818\n",
      "9800817\n",
      "9926315\n"
     ]
    }
   ],
   "source": [
    "lower =int(input(\"enter the lower limit\"))\n",
    "upper =int(input(\"enter the upper limit\"))\n",
    "\n",
    "for num in range(lower, upper + 1):\n",
    "\n",
    "   # order of number\n",
    "   order = len(str(num))\n",
    "    \n",
    "   # initialize sum\n",
    "   sum = 0\n",
    "\n",
    "   temp = num\n",
    "   while temp > 0:\n",
    "       digit = temp % 10\n",
    "       sum += digit ** order\n",
    "       temp //= 10\n",
    "\n",
    "   if num == sum:\n",
    "       print(num)"
   ]
  },
  {
   "cell_type": "markdown",
   "id": "d7ed80fa",
   "metadata": {},
   "source": [
    "Write a Python Program to Find the Sum of Natural Numbers?"
   ]
  },
  {
   "cell_type": "code",
   "execution_count": 51,
   "id": "c54209aa",
   "metadata": {},
   "outputs": [
    {
     "name": "stdout",
     "output_type": "stream",
     "text": [
      "enter the number7\n",
      "28\n"
     ]
    }
   ],
   "source": [
    "n=int(input(\"enter the number\"))\n",
    "sum=0\n",
    "for i in range(n+1):\n",
    "    sum=sum+(n-i)\n",
    "print(sum)"
   ]
  },
  {
   "cell_type": "code",
   "execution_count": null,
   "id": "c4c8798b",
   "metadata": {},
   "outputs": [],
   "source": []
  }
 ],
 "metadata": {
  "kernelspec": {
   "display_name": "Python 3",
   "language": "python",
   "name": "python3"
  },
  "language_info": {
   "codemirror_mode": {
    "name": "ipython",
    "version": 3
   },
   "file_extension": ".py",
   "mimetype": "text/x-python",
   "name": "python",
   "nbconvert_exporter": "python",
   "pygments_lexer": "ipython3",
   "version": "3.8.8"
  }
 },
 "nbformat": 4,
 "nbformat_minor": 5
}
