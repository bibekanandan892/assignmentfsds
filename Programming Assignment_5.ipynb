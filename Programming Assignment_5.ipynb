{
 "cells": [
  {
   "cell_type": "markdown",
   "id": "19dc5b50",
   "metadata": {},
   "source": [
    "Write a Python Program to Find LCM?"
   ]
  },
  {
   "cell_type": "code",
   "execution_count": 2,
   "id": "12c9dd71",
   "metadata": {},
   "outputs": [
    {
     "name": "stdout",
     "output_type": "stream",
     "text": [
      "enter the frist number23424\n",
      "enter the second number234\n",
      "the lcm is  913536\n"
     ]
    }
   ],
   "source": [
    "def calculate(x,y):\n",
    "    if x>y:\n",
    "        grater=x\n",
    "    else:\n",
    "        grater=y\n",
    "    while(True):\n",
    "        if grater%x==0 and grater%y==0:\n",
    "            lcm=grater\n",
    "            break\n",
    "        grater+=1\n",
    "    return lcm\n",
    "x=int(input(\"enter the frist number\"))\n",
    "y=int(input(\"enter the second number\"))\n",
    "print(\"the lcm is \",calculate(x,y))"
   ]
  },
  {
   "cell_type": "markdown",
   "id": "974c9951",
   "metadata": {},
   "source": [
    "Write a Python Program to Find HCF?"
   ]
  },
  {
   "cell_type": "code",
   "execution_count": 5,
   "id": "e33b1206",
   "metadata": {},
   "outputs": [
    {
     "name": "stdout",
     "output_type": "stream",
     "text": [
      "enter the frist number34\n",
      "enter the second number43\n",
      "the lcm is  1\n"
     ]
    }
   ],
   "source": [
    "def calculate(x,y):\n",
    "    if x<y:\n",
    "        small=x\n",
    "    else:\n",
    "        small=y\n",
    "    for i in range(1,small+1):\n",
    "        if x % i==0 and y % i == 0:\n",
    "            hcf=i\n",
    "    return hcf\n",
    "x=int(input(\"enter the frist number\"))\n",
    "y=int(input(\"enter the second number\"))\n",
    "print(\"the lcm is \",calculate(x,y))"
   ]
  },
  {
   "cell_type": "markdown",
   "id": "4aaea127",
   "metadata": {},
   "source": [
    "Write a Python Program to Convert Decimal to Binary, Octal and Hexadecimal?"
   ]
  },
  {
   "cell_type": "code",
   "execution_count": 6,
   "id": "38989ecd",
   "metadata": {},
   "outputs": [
    {
     "name": "stdout",
     "output_type": "stream",
     "text": [
      "The decimal value of 344 is:\n",
      "0b101011000 in binary.\n",
      "0o530 in octal.\n",
      "0x158 in hexadecimal.\n"
     ]
    }
   ],
   "source": [
    "# Python program to convert decimal into other number systems\n",
    "dec = 344\n",
    "\n",
    "print(\"The decimal value of\", dec, \"is:\")\n",
    "print(bin(dec), \"in binary.\")\n",
    "print(oct(dec), \"in octal.\")\n",
    "print(hex(dec), \"in hexadecimal.\")"
   ]
  },
  {
   "cell_type": "markdown",
   "id": "c2564e27",
   "metadata": {},
   "source": [
    "Write a Python Program To Find ASCII value of a character?"
   ]
  },
  {
   "cell_type": "code",
   "execution_count": 7,
   "id": "43b51526",
   "metadata": {},
   "outputs": [
    {
     "name": "stdout",
     "output_type": "stream",
     "text": [
      "The ASCII value of 'p' is 112\n"
     ]
    }
   ],
   "source": [
    "# Program to find the ASCII value of the given character\n",
    "\n",
    "c = 'p'\n",
    "print(\"The ASCII value of '\" + c + \"' is\", ord(c))"
   ]
  },
  {
   "cell_type": "markdown",
   "id": "a0bee21a",
   "metadata": {},
   "source": [
    "Write a Python Program to Make a Simple Calculator with 4 basic mathematical operations?"
   ]
  },
  {
   "cell_type": "code",
   "execution_count": 9,
   "id": "bc3b62d9",
   "metadata": {},
   "outputs": [
    {
     "name": "stdout",
     "output_type": "stream",
     "text": [
      "please enter the first number234\n",
      "please enter the second number234\n",
      "enter the opertion you want to do (+,-,*,/)453\n",
      "your answer is  operation is not valid\n"
     ]
    }
   ],
   "source": [
    "def calculater(x,y,operation):\n",
    "    if operation== '+':\n",
    "        return x+y\n",
    "    if operation == '-':\n",
    "        return x-y\n",
    "    if operation == '*':\n",
    "        return x*y\n",
    "    if operation == '/':\n",
    "        return x/y\n",
    "    return \"operation is not valid\"\n",
    "x=int(input(\"please enter the first number\"))\n",
    "y=int(input(\"please enter the second number\"))\n",
    "operation=input(\"enter the opertion you want to do (+,-,*,/)\")\n",
    "print(\"your answer is \",calculater(x,y,operation) )"
   ]
  },
  {
   "cell_type": "code",
   "execution_count": null,
   "id": "1a76d5cd",
   "metadata": {},
   "outputs": [],
   "source": []
  }
 ],
 "metadata": {
  "kernelspec": {
   "display_name": "Python 3",
   "language": "python",
   "name": "python3"
  },
  "language_info": {
   "codemirror_mode": {
    "name": "ipython",
    "version": 3
   },
   "file_extension": ".py",
   "mimetype": "text/x-python",
   "name": "python",
   "nbconvert_exporter": "python",
   "pygments_lexer": "ipython3",
   "version": "3.8.8"
  }
 },
 "nbformat": 4,
 "nbformat_minor": 5
}
